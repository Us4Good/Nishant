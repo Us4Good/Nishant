{
 "cells": [
  {
   "cell_type": "code",
   "execution_count": 183,
   "metadata": {},
   "outputs": [],
   "source": [
    "import xml.etree.ElementTree as ET\n",
    "import os\n",
    "from shutil import copyfile\n",
    "import pandas as pd\n",
    "import numpy as np\n",
    "import matplotlib.pyplot as plt\n",
    "import matplotlib.ticker as mtick"
   ]
  },
  {
   "cell_type": "code",
   "execution_count": 8,
   "metadata": {},
   "outputs": [],
   "source": [
    "bb_file_list = os.listdir(\"./Downloads/Annotation/smoke_annotation/\")"
   ]
  },
  {
   "cell_type": "code",
   "execution_count": 106,
   "metadata": {},
   "outputs": [],
   "source": [
    "filenames = []\n",
    "areas = []\n",
    "\n",
    "for f in bb_file_list:\n",
    "    f_name = './Downloads/Annotation/smoke_annotation/%s'%(f) \n",
    "    tree = ET.parse(f_name)\n",
    "    root = tree.getroot()\n",
    "    filename = root.find('filename').text\n",
    "    xmin = root.find('object').find('bndbox').find('xmin').text\n",
    "    ymin = root.find('object').find('bndbox').find('ymin').text\n",
    "    xmax = root.find('object').find('bndbox').find('xmax').text\n",
    "    ymax = root.find('object').find('bndbox').find('ymax').text\n",
    "    length = float(xmax) - float(xmin)\n",
    "    height = float(ymax) - float(ymin)\n",
    "    area = length*height\n",
    "    \n",
    "    filenames.append(filename)\n",
    "    areas.append(area)"
   ]
  },
  {
   "cell_type": "code",
   "execution_count": 107,
   "metadata": {},
   "outputs": [
    {
     "data": {
      "text/html": [
       "<div>\n",
       "<style scoped>\n",
       "    .dataframe tbody tr th:only-of-type {\n",
       "        vertical-align: middle;\n",
       "    }\n",
       "\n",
       "    .dataframe tbody tr th {\n",
       "        vertical-align: top;\n",
       "    }\n",
       "\n",
       "    .dataframe thead th {\n",
       "        text-align: right;\n",
       "    }\n",
       "</style>\n",
       "<table border=\"1\" class=\"dataframe\">\n",
       "  <thead>\n",
       "    <tr style=\"text-align: right;\">\n",
       "      <th></th>\n",
       "      <th>fname</th>\n",
       "      <th>area</th>\n",
       "    </tr>\n",
       "  </thead>\n",
       "  <tbody>\n",
       "    <tr>\n",
       "      <th>0</th>\n",
       "      <td>1529002640_+01680.jpg</td>\n",
       "      <td>191259.0</td>\n",
       "    </tr>\n",
       "    <tr>\n",
       "      <th>1</th>\n",
       "      <td>1528759326_+01920.jpg</td>\n",
       "      <td>232650.0</td>\n",
       "    </tr>\n",
       "    <tr>\n",
       "      <th>2</th>\n",
       "      <td>1563122767_+00180.jpg</td>\n",
       "      <td>425.0</td>\n",
       "    </tr>\n",
       "    <tr>\n",
       "      <th>3</th>\n",
       "      <td>1563124627_+02040.jpg</td>\n",
       "      <td>26877.0</td>\n",
       "    </tr>\n",
       "    <tr>\n",
       "      <th>4</th>\n",
       "      <td>1563224423_+01620.jpg</td>\n",
       "      <td>2924.0</td>\n",
       "    </tr>\n",
       "  </tbody>\n",
       "</table>\n",
       "</div>"
      ],
      "text/plain": [
       "                   fname      area\n",
       "0  1529002640_+01680.jpg  191259.0\n",
       "1  1528759326_+01920.jpg  232650.0\n",
       "2  1563122767_+00180.jpg     425.0\n",
       "3  1563124627_+02040.jpg   26877.0\n",
       "4  1563224423_+01620.jpg    2924.0"
      ]
     },
     "execution_count": 107,
     "metadata": {},
     "output_type": "execute_result"
    }
   ],
   "source": [
    "area_list = pd.DataFrame({'fname':filenames,'area':areas})\n",
    "area_list.head()"
   ]
  },
  {
   "cell_type": "code",
   "execution_count": 115,
   "metadata": {},
   "outputs": [
    {
     "data": {
      "image/png": "[encoded data removed]",
      "text/plain": [
       "<Figure size 432x288 with 1 Axes>"
      ]
     },
     "metadata": {},
     "output_type": "display_data"
    }
   ],
   "source": [
    "topareas = area_list['area'].sort_values().reset_index()['area'].plot()\n",
    "topareas.xaxis.set_major_formatter(mtick.PercentFormatter(xmax=len(area_list['area'])))\n",
    "plt.show()"
   ]
  },
  {
   "cell_type": "code",
   "execution_count": null,
   "metadata": {},
   "outputs": [],
   "source": [
    "#Can see there's a few images with really large bounding boxes so it's hard to see what threshold is optimal.\n",
    "#Focus on the top 15% (1047 images) to get a better idea of what threshold to use - we want to find the images\n",
    "#with the smallest bounding boxes as these would be earliest possible sign of smoke detection"
   ]
  },
  {
   "cell_type": "code",
   "execution_count": 116,
   "metadata": {},
   "outputs": [
    {
     "data": {
      "text/html": [
       "<div>\n",
       "<style scoped>\n",
       "    .dataframe tbody tr th:only-of-type {\n",
       "        vertical-align: middle;\n",
       "    }\n",
       "\n",
       "    .dataframe tbody tr th {\n",
       "        vertical-align: top;\n",
       "    }\n",
       "\n",
       "    .dataframe thead th {\n",
       "        text-align: right;\n",
       "    }\n",
       "</style>\n",
       "<table border=\"1\" class=\"dataframe\">\n",
       "  <thead>\n",
       "    <tr style=\"text-align: right;\">\n",
       "      <th></th>\n",
       "      <th>fname</th>\n",
       "      <th>area</th>\n",
       "    </tr>\n",
       "  </thead>\n",
       "  <tbody>\n",
       "    <tr>\n",
       "      <th>233</th>\n",
       "      <td>1564869279_+00060.jpg</td>\n",
       "      <td>160.0</td>\n",
       "    </tr>\n",
       "    <tr>\n",
       "      <th>103</th>\n",
       "      <td>1564869339_+00120.jpg</td>\n",
       "      <td>273.0</td>\n",
       "    </tr>\n",
       "    <tr>\n",
       "      <th>685</th>\n",
       "      <td>1563135083_+00060.jpg</td>\n",
       "      <td>312.0</td>\n",
       "    </tr>\n",
       "    <tr>\n",
       "      <th>38</th>\n",
       "      <td>1563122707_+00120.jpg</td>\n",
       "      <td>323.0</td>\n",
       "    </tr>\n",
       "    <tr>\n",
       "      <th>156</th>\n",
       "      <td>1563221243_-01560.jpg</td>\n",
       "      <td>360.0</td>\n",
       "    </tr>\n",
       "  </tbody>\n",
       "</table>\n",
       "</div>"
      ],
      "text/plain": [
       "                     fname   area\n",
       "233  1564869279_+00060.jpg  160.0\n",
       "103  1564869339_+00120.jpg  273.0\n",
       "685  1563135083_+00060.jpg  312.0\n",
       "38   1563122707_+00120.jpg  323.0\n",
       "156  1563221243_-01560.jpg  360.0"
      ]
     },
     "execution_count": 116,
     "metadata": {},
     "output_type": "execute_result"
    }
   ],
   "source": [
    "top_perc = 0.14\n",
    "top_perc_df = pd.DataFrame(area_list.sort_values('area')[:int(np.round(len(area_list['area'])*top_perc))])\n",
    "top_perc_df.head()"
   ]
  },
  {
   "cell_type": "code",
   "execution_count": 118,
   "metadata": {},
   "outputs": [
    {
     "data": {
      "image/png": "[encoded data removed]",
      "text/plain": [
       "<Figure size 432x288 with 1 Axes>"
      ]
     },
     "metadata": {},
     "output_type": "display_data"
    }
   ],
   "source": [
    "topareas = top_perc_df['area'].sort_values().reset_index()['area'].plot()\n",
    "topareas.xaxis.set_major_formatter(mtick.PercentFormatter(xmax=len(area_list['area'])))\n",
    "plt.show()"
   ]
  },
  {
   "cell_type": "code",
   "execution_count": 120,
   "metadata": {},
   "outputs": [
    {
     "data": {
      "text/plain": [
       "0.00015894571940104166"
      ]
     },
     "execution_count": 120,
     "metadata": {},
     "output_type": "execute_result"
    }
   ],
   "source": [
    "#Looks like using around 700 for a cutoff is a good point to caputre the smallest bounding boxes while making\n",
    "#sure there is enought data to model"
   ]
  },
  {
   "cell_type": "code",
   "execution_count": 139,
   "metadata": {},
   "outputs": [
    {
     "name": "stdout",
     "output_type": "stream",
     "text": [
      "0.03581661891117478\n",
      "0.03724928366762178\n",
      "0.03724928366762178\n"
     ]
    }
   ],
   "source": [
    "print(top_perc_df.loc[top_perc_df['area'] <= 700, ].shape[0]/area_list.shape[0])\n",
    "print(top_perc_df.loc[top_perc_df['area'] <= 715, ].shape[0]/area_list.shape[0])\n",
    "print(top_perc_df.loc[top_perc_df['area'] <= 750, ].shape[0]/area_list.shape[0])"
   ]
  },
  {
   "cell_type": "code",
   "execution_count": 177,
   "metadata": {},
   "outputs": [
    {
     "name": "stdout",
     "output_type": "stream",
     "text": [
      "No difference between 715 and 750, so let's use 715 as the threshold. \n",
      "This corresponds to approx 0.01% of a full size image - Quite small and hopefully representative of very early smoke.\n",
      "The number of images is 26 - This is quite low but should be enough with augementation hopefully\n",
      "\n"
     ]
    }
   ],
   "source": [
    "print(\"\"\"No difference between 715 and 750, so let's use 715 as the threshold. \n",
    "This corresponds to approx %s%% of a full size image - Quite small and hopefully representative of very early smoke.\n",
    "The number of images is %s - This is quite low but should be enough with augementation hopefully\n",
    "\"\"\"%(np.round((715/(2048*3072))*100,2),top_perc_df.loc[top_perc_df['area'] <= 715, ].shape[0]))"
   ]
  },
  {
   "cell_type": "code",
   "execution_count": 178,
   "metadata": {},
   "outputs": [
    {
     "data": {
      "text/plain": [
       "233    1564869279_+00060.jpg\n",
       "103    1564869339_+00120.jpg\n",
       "685    1563135083_+00060.jpg\n",
       "38     1563122707_+00120.jpg\n",
       "156    1563221243_-01560.jpg\n",
       "Name: fname, dtype: object"
      ]
     },
     "execution_count": 178,
     "metadata": {},
     "output_type": "execute_result"
    }
   ],
   "source": [
    "top_fnames = top_perc_df.loc[top_perc_df['area'] <= 700,'fname']\n",
    "top_fnames.head()"
   ]
  },
  {
   "cell_type": "code",
   "execution_count": 182,
   "metadata": {},
   "outputs": [
    {
     "data": {
      "text/plain": [
       "['EarliestSmokeImages']"
      ]
     },
     "execution_count": 182,
     "metadata": {},
     "output_type": "execute_result"
    }
   ],
   "source": [
    "os.makedirs(\"WildfireHackathon/EarliestSmokeImages\")\n",
    "os.listdir(\"WildfireHackathon\")"
   ]
  },
  {
   "cell_type": "code",
   "execution_count": 191,
   "metadata": {},
   "outputs": [],
   "source": [
    "#Copy images into new folder\n",
    "in_folder_name = \"./Downloads/challenge1/smoke/\"\n",
    "out_folder_name = 'WildfireHackathon/EarliestSmokeImages/'\n",
    "\n",
    "for f in top_fnames:\n",
    "    in_name = '%s%s'%(in_folder_name,f)\n",
    "    out_name = '%s%s'%(out_folder_name,f)\n",
    "    copyfile(f_name, out_name)"
   ]
  },
  {
   "cell_type": "code",
   "execution_count": 192,
   "metadata": {},
   "outputs": [
    {
     "data": {
      "text/plain": [
       "['1563122767_+00180.jpg',\n",
       " '1564869579_+00360.jpg',\n",
       " '1564869819_+00600.jpg',\n",
       " '1563122707_+00120.jpg',\n",
       " '1563221183_-01620.jpg',\n",
       " '1564869399_+00180.jpg',\n",
       " '1564869519_+00300.jpg',\n",
       " '1564869339_+00120.jpg',\n",
       " '1563135263_+00240.jpg',\n",
       " '1563221243_-01560.jpg',\n",
       " '1563135203_+00180.jpg',\n",
       " '1563135143_+00120.jpg',\n",
       " '1563135323_+00300.jpg',\n",
       " '1563122827_+00240.jpg',\n",
       " '1564869279_+00060.jpg',\n",
       " '1528757466_+00060.jpg',\n",
       " '1564869459_+00240.jpg',\n",
       " '1532544985_+00060.jpg',\n",
       " '1563223643_+00840.jpg',\n",
       " '1563221303_-01500.jpg',\n",
       " '1564869759_+00540.jpg',\n",
       " '1563223703_+00900.jpg',\n",
       " '1563223583_+00780.jpg',\n",
       " '1563223343_+00540.jpg',\n",
       " '1563135083_+00060.jpg']"
      ]
     },
     "execution_count": 192,
     "metadata": {},
     "output_type": "execute_result"
    }
   ],
   "source": [
    "os.listdir(\"WildfireHackathon/EarliestSmokeImages\")"
   ]
  }
 ],
 "metadata": {
  "kernelspec": {
   "display_name": "Python 3",
   "language": "python",
   "name": "python3"
  },
  "language_info": {
   "codemirror_mode": {
    "name": "ipython",
    "version": 3
   },
   "file_extension": ".py",
   "mimetype": "text/x-python",
   "name": "python",
   "nbconvert_exporter": "python",
   "pygments_lexer": "ipython3",
   "version": "3.6.5"
  }
 },
 "nbformat": 4,
 "nbformat_minor": 2
}
